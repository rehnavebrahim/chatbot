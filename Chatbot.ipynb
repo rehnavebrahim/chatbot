{
  "nbformat": 4,
  "nbformat_minor": 0,
  "metadata": {
    "colab": {
      "provenance": [],
      "authorship_tag": "ABX9TyNk5ahdFhe/sSIKnpQDBqWI",
      "include_colab_link": true
    },
    "kernelspec": {
      "name": "python3",
      "display_name": "Python 3"
    },
    "language_info": {
      "name": "python"
    }
  },
  "cells": [
    {
      "cell_type": "markdown",
      "metadata": {
        "id": "view-in-github",
        "colab_type": "text"
      },
      "source": [
        "<a href=\"https://colab.research.google.com/github/rehnavebrahim/chatbot/blob/main/Chatbot.ipynb\" target=\"_parent\"><img src=\"https://colab.research.google.com/assets/colab-badge.svg\" alt=\"Open In Colab\"/></a>"
      ]
    },
    {
      "cell_type": "code",
      "execution_count": null,
      "metadata": {
        "id": "rAIo_p9_mTBu"
      },
      "outputs": [],
      "source": [
        "import numpy as np\n",
        "import pandas as pd\n",
        "import nltk\n",
        "import string\n",
        "import random"
      ]
    },
    {
      "cell_type": "markdown",
      "source": [
        "# **Reading the Corpus of Text**"
      ],
      "metadata": {
        "id": "9UH43kRwoWIA"
      }
    },
    {
      "cell_type": "code",
      "source": [
        "f=open('/content/chatt.csv','r',errors='ignore')\n",
        "raw_doc=f.read()"
      ],
      "metadata": {
        "id": "h_G28so94rAn"
      },
      "execution_count": null,
      "outputs": []
    },
    {
      "cell_type": "code",
      "source": [
        "raw_doc"
      ],
      "metadata": {
        "colab": {
          "base_uri": "https://localhost:8080/",
          "height": 140
        },
        "id": "x8AGl5dY5S2m",
        "outputId": "caf6346a-634d-4e62-fe8c-e42fdaafe90e"
      },
      "execution_count": null,
      "outputs": [
        {
          "output_type": "execute_result",
          "data": {
            "text/plain": [
              "'Chatbot\\n\\nArticle\\nTalk\\nRead\\nView source\\nView history\\n\\nTools\\nPage semi-protected\\nFrom Wikipedia, the free encyclopedia\\nFor other uses, see Chatbot (disambiguation).\\n\\nParts of this article (those related to everything, particularly sections after the intro) need to be updated. The reason given is: this article is using citations from 1970 and virtually all claims about conversational capabilities are at least ten years out of date (for example the Turing test was arguably made obsolete years ago by transformer models). Please help update this article to reflect recent events or newly available information. (February 2023)\\n\\nA virtual assistant chatbot\\n\\nThe 1966 ELIZA chatbot\\nPart of a series on\\nMachine learning\\nand data mining\\nParadigms\\nProblems\\nSupervised learning\\n(classification • regression)\\nClustering\\nDimensionality reduction\\nStructured prediction\\nAnomaly detection\\nArtificial neural network\\nAutoencoderCognitive computingDeep learningDeepDreamFeedforward neural networkRecurrent neural network LSTMGRUESNreservoir computingRestricted Boltzmann machineGANDiffusion modelSOMConvolutional neural network U-NetTransformer VisionSpiking neural networkMemtransistorElectrochemical RAM (ECRAM)\\nReinforcement learning\\nLearning with humans\\nModel diagnostics\\nMathematical foundations\\nMachine-learning venues\\nRelated articles\\nvte\\nA chatbot (originally chatterbot[1]) is a software application or web interface that is designed to mimic human conversation through text or voice interactions.[2][3][4] Modern chatbots are typically online and use generative artificial intelligence systems that are capable of maintaining a conversation with a user in natural language and simulating the way a human would behave as a conversational partner. Such chatbots often use deep learning and natural language processing, but simpler chatbots have existed for decades.\\n\\nAs of 2022, the field has gained widespread attention due to the popularity of OpenAI\\'s ChatGPT (using GPT-3 or GPT-4),[5] released in 2022,[6] followed by alternatives such as Microsoft\\'s Bing Chat (which uses OpenAI\\'s GPT-4) and Google\\'s Bard.[7] Such examples reflect the recent practice of such products being built based upon broad foundational large language models that get fine-tuned so as to target specific tasks or applications (i.e. simulating human conversation, in the case of chatbots). Chatbots can also be designed or customized to further target even more specific situations and/or particular subject-matter domains.[8]\\n\\nA major area where chatbots have long been used is in customer service and support, such as with various sorts of virtual assistants.[9] Companies spanning various industries have begun using the latest generative artificial intelligence technologies to power more advanced developments in such areas.[8]\\n\\nBackground\\nIn 1950, Alan Turing\\'s famous article \"Computing Machinery and Intelligence\" was published,[10] which proposed what is now called the Turing test as a criterion of intelligence. This criterion depends on the ability of a computer program to impersonate a human in a real-time written conversation with a human judge to the extent that the judge is unable to distinguish reliably—on the basis of the conversational content alone—between the program and a real human. The notoriety of Turing\\'s proposed test stimulated great interest in Joseph Weizenbaum\\'s program ELIZA, published in 1966, which seemed to be able to fool users into believing that they were conversing with a real human. However Weizenbaum himself did not claim that ELIZA was genuinely intelligent, and the introduction to his paper presented it more as a debunking exercise:\\n\\nIn artificial intelligence, machines are made to behave in wondrous ways, often sufficient to dazzle even the most experienced observer. But once a particular program is unmasked, once its inner workings are explained, its magic crumbles away; it stands revealed as a mere collection of procedures. The observer says to himself \"I could have written that\". With that thought, he moves the program in question from the shelf marked \"intelligent\", to that reserved for curios. The object of this paper is to cause just such a re-evaluation of the program about to be \"explained\". Few programs ever needed it more.[11]\\n\\nELIZA\\'s key method of operation (copied by chatbot designers ever since) involves the recognition of clue words or phrases in the input, and the output of the corresponding pre-prepared or pre-programmed responses that can move the conversation forward in an apparently meaningful way (e.g. by responding to any input that contains the word \\'MOTHER\\' with \\'TELL ME MORE ABOUT YOUR FAMILY\\').[11] Thus an illusion of understanding is generated, even though the processing involved has been merely superficial. ELIZA showed that such an illusion is surprisingly easy to generate because human judges are so ready to give the benefit of the doubt when conversational responses are capable of being interpreted as \"intelligent\".\\n\\nInterface designers have come to appreciate that humans\\' readiness to interpret computer output as genuinely conversational—even when it is actually based on rather simple pattern-matching—can be exploited for useful purposes. Most people prefer to engage with programs that are human-like, and this gives chatbot-style techniques a potentially useful role in interactive systems that need to elicit information from users, as long as that information is relatively straightforward and falls into predictable categories. Thus, for example, online help systems can usefully employ chatbot techniques to identify the area of help that users require, potentially providing a \"friendlier\" interface than a more formal search or menu system. This sort of usage holds the prospect of moving chatbot technology from Weizenbaum\\'s \"shelf ... reserved for curios\" to that marked \"genuinely useful computational methods\".\\n\\nDevelopment\\nAmong the most notable early chatbots are ELIZA (1966) and PARRY (1972).[12][13][14][15] More recent notable programs include A.L.I.C.E., Jabberwacky and D.U.D.E (Agence Nationale de la Recherche and CNRS 2006). While ELIZA and PARRY were used exclusively to simulate typed conversation, many chatbots now include other functional features, such as games and web searching abilities. In 1984, a book called The Policeman\\'s Beard is Half Constructed was published, allegedly written by the chatbot Racter (though the program as released would not have been capable of doing so).[16]\\n\\nFrom 1978[17] to some time after 1983,[18] the CYRUS project led by Janet Kolodner constructed a chatbot simulating Cyrus Vance (57th United States Secretary of State). It used case-based reasoning, and updated its database daily by parsing wire news from United Press International. The program was unable to process the news items subsequent to the surprise resignation of Cyrus Vance in April 1980, and the team constructed another chatbot simulating his successor, Edmund Muskie.[19][18]\\n\\nOne pertinent field of AI research is natural-language processing. Usually, weak AI fields employ specialized software or programming languages created specifically for the narrow function required. For example, A.L.I.C.E. uses a markup language called AIML,[3] which is specific to its function as a conversational agent, and has since been adopted by various other developers of, so-called, Alicebots. Nevertheless, A.L.I.C.E. is still purely based on pattern matching techniques without any reasoning capabilities, the same technique ELIZA was using back in 1966. This is not strong AI, which would require sapience and logical reasoning abilities.\\n\\nJabberwacky learns new responses and context based on real-time user interactions, rather than being driven from a static database. Some more recent chatbots also combine real-time learning with evolutionary algorithms that optimize their ability to communicate based on each conversation held. Still, there is currently no general purpose conversational artificial intelligence, and some software developers focus on the practical aspect, information retrieval.\\n\\nChatbot competitions focus on the Turing test or more specific goals. Two such annual contests are the Loebner Prize and The Chatterbox Challenge (the latter has been offline since 2015, however, materials can still be found from web archives).[20]\\n\\nChatbots may use neural networks as a language model. For example, generative pre-trained transformers (GPT), which use the transformer architecture, have become common to build sophisticated chatbots. The \"pre-training\" in its name refers to the initial training process on a large text corpus, which provides a solid foundation for the model to perform well on downstream tasks with limited amounts of task-specific data. An example of a GPT chatbot is ChatGPT.[21] Despite criticism of its accuracy, ChatGPT has gained attention for its detailed responses and historical knowledge. Another example is BioGPT, developed by Microsoft, which focuses on answering biomedical questions.[22][23] In November 2023, Amazon announced a new chatbot, called Q, for people to use at work.[24]\\n\\nDBpedia created a chatbot during the GSoC of 2017.[25][26][27] It can communicate through Facebook Messenger.\\n\\nApplication\\nSee also: Virtual assistant\\nMessaging apps\\nMany companies\\' chatbots run on messaging apps or simply via SMS. They are used for B2C customer service, sales and marketing.[28]\\n\\nIn 2016, Facebook Messenger allowed developers to place chatbots on their platform. There were 30,000 bots created for Messenger in the first six months, rising to 100,000 by September 2017.[29]\\n\\nSince September 2017, this has also been as part of a pilot program on WhatsApp. Airlines KLM and Aeroméxico both announced their participation in the testing;[30][31][32][33] both airlines had previously launched customer services on the Facebook Messenger platform.\\n\\nThe bots usually appear as one of the user\\'s contacts, but can sometimes act as participants in a group chat.\\n\\nMany banks, insurers, media companies, e-commerce companies, airlines, hotel chains, retailers, health care providers, government entities and restaurant chains have used chatbots to answer simple questions, increase customer engagement,[34] for promotion, and to offer additional ways to order from them.[35] Chatbots are also used in market research to collect short survey responses.[36]\\n\\nA 2017 study showed 4% of companies used chatbots.[37] According to a 2016 study, 80% of businesses said they intended to have one by 2020.[38]\\n\\nAs part of company apps and websites\\nPrevious generations of chatbots were present on company websites, e.g. Ask Jenn from Alaska Airlines which debuted in 2008[39] or Expedia\\'s virtual customer service agent which launched in 2011.[39][40] The newer generation of chatbots includes IBM Watson-powered \"Rocky\", introduced in February 2017 by the New York City-based e-commerce company Rare Carat to provide information to prospective diamond buyers.[41][42]\\n\\nChatbot sequences\\nUsed by marketers to script sequences of messages, very similar to an autoresponder sequence. Such sequences can be triggered by user opt-in or the use of keywords within user interactions. After a trigger occurs a sequence of messages is delivered until the next anticipated user response. Each user response is used in the decision tree to help the chatbot navigate the response sequences to deliver the correct response message.\\n\\nCompany internal platforms\\nOther companies explore ways they can use chatbots internally, for example for Customer Support, Human Resources, or even in Internet-of-Things (IoT) projects. Overstock.com, for one, has reportedly launched a chatbot named Mila to automate certain simple yet time-consuming processes when requesting sick leave.[43] Other large companies such as Lloyds Banking Group, Royal Bank of Scotland, Renault and Citroën are now using automated online assistants instead of call centres with humans to provide a first point of contact. A SaaS chatbot business ecosystem has been steadily growing since the F8 Conference when Facebook\\'s Mark Zuckerberg unveiled that Messenger would allow chatbots into the app.[44] In large companies, like in hospitals and aviation organizations, IT architects are designing reference architectures for Intelligent Chatbots that are used to unlock and share knowledge and experience in the organization more efficiently, and reduce the errors in answers from expert service desks significantly.[45] These Intelligent Chatbots make use of all kinds of artificial intelligence like image moderation and natural-language understanding (NLU), natural-language generation (NLG), machine learning and deep learning.\\n\\nCustomer service\\nMany high-tech banking organizations are looking to integrate automated AI-based solutions such as chatbots into their customer service in order to provide faster and cheaper assistance to their clients who are becoming increasingly comfortable with technology. In particular, chatbots can efficiently conduct a dialogue, usually replacing other communication tools such as email, phone, or SMS. In banking, their major application is related to quick customer service answering common requests, as well as transactional support.\\n\\nSeveral studies report significant reduction in the cost of customer services, expected to lead to billions of dollars of economic savings in the next ten years.[46] In 2019, Gartner predicted that by 2021, 15% of all customer service interactions globally will be handled completely by AI.[47] A study by Juniper Research in 2019 estimates retail sales resulting from chatbot-based interactions will reach $112 billion by 2023.[48]\\n\\nSince 2016, when Facebook allowed businesses to deliver automated customer support, e-commerce guidance, content, and interactive experiences through chatbots, a large variety of chatbots were developed for the Facebook Messenger platform.[49]\\n\\nIn 2016, Russia-based Tochka Bank launched the world\\'s first Facebook bot for a range of financial services, including a possibility of making payments.[50]\\n\\nIn July 2016, Barclays Africa also launched a Facebook chatbot, making it the first bank to do so in Africa.[51]\\n\\nThe France\\'s third-largest bank by total assets[52] Société Générale launched their chatbot called SoBot in March 2018. While 80% of users of the SoBot expressed their satisfaction after having tested it, Société Générale deputy director Bertrand Cozzarolo stated that it will never replace the expertise provided by a human advisor. [53]\\n\\nThe advantages of using chatbots for customer interactions in banking include cost reduction, financial advice, and 24/7 support.[54][55]\\n\\nHealthcare\\nSee also: Artificial intelligence in healthcare\\nChatbots are also appearing in the healthcare industry.[56][57] A study suggested that physicians in the United States believed that chatbots would be most beneficial for scheduling doctor appointments, locating health clinics, or providing medication information.[58]\\n\\nWhatsapp has teamed up with the World Health Organisation (WHO) to make a chatbot service that answers users\\' questions on COVID-19.[59]\\n\\nIn 2020, The Indian Government launched a chatbot called MyGov Corona Helpdesk,[60] that worked through Whatsapp and helped people access information about the Coronavirus (COVID-19) pandemic.[61][62]\\n\\nCertain patient groups are still reluctant to use chatbots. A mixed-methods study showed that people are still hesitant to use chatbots for their healthcare due to poor understanding of the technological complexity, the lack of empathy, and concerns about cyber-security.[63] The analysis showed that while 6% had heard of a health chatbot and 3% had experience of using it, 67% perceived themselves as likely to use one within 12 months. The majority of participants would use a health chatbot for seeking general health information (78%), booking a medical appointment (78%), and looking for local health services (80%). However, a health chatbot was perceived as less suitable for seeking results of medical tests and seeking specialist advice such as sexual health. The analysis of attitudinal variables showed that most participants reported their preference for discussing their health with doctors (73%) and having access to reliable and accurate health information (93%). While 80% were curious about new technologies that could improve their health, 66% reported only seeking a doctor when experiencing a health problem and 65% thought that a chatbot was a good idea. Interestingly, 30% reported dislike about talking to computers, 41% felt it would be strange to discuss health matters with a chatbot and about half were unsure if they could trust the advice given by a chatbot. Therefore, perceived trustworthiness, individual attitudes towards bots, and dislike for talking to computers are the main barriers to health chatbots.\\n\\nPolitics\\nSee also: Government by algorithm § AI politicians\\nIn New Zealand, the chatbot SAM – short for Semantic Analysis Machine[64] (made by Nick Gerritsen of Touchtech[65]) – has been developed. It is designed to share its political thoughts, for example on topics such as climate change, healthcare and education, etc. It talks to people through Facebook Messenger.[66][67][68][69]\\n\\nIn 2022, the chatbot \"Leader Lars\" or \"Leder Lars\" was nominated for The Synthetic Party to run in the Danish parliamentary election,[70] and was built by the artist collective Computer Lars.[71] Leader Lars differed from earlier virtual politicians by leading a political party and by not pretending to be an objective candidate.[72] This chatbot engaged in critical discussions on politics with users from around the world.[73]\\n\\nIn India, the state government has launched a chatbot for its Aaple Sarkar platform,[74] which provides conversational access to information regarding public services managed.[75][76]\\n\\nToys\\nChatbots have also been incorporated into devices not primarily meant for computing, such as toys.[77]\\n\\nHello Barbie is an Internet-connected version of the doll that uses a chatbot provided by the company ToyTalk,[78] which previously used the chatbot for a range of smartphone-based characters for children.[79] These characters\\' behaviors are constrained by a set of rules that in effect emulate a particular character and produce a storyline.[80]\\n\\nThe My Friend Cayla doll was marketed as a line of 18-inch (46 cm) dolls which uses speech recognition technology in conjunction with an Android or iOS mobile app to recognize the child\\'s speech and have a conversation. It, like the Hello Barbie doll, attracted controversy due to vulnerabilities with the doll\\'s Bluetooth stack and its use of data collected from the child\\'s speech.\\n\\nIBM\\'s Watson computer has been used as the basis for chatbot-based educational toys for companies such as CogniToys[77] intended to interact with children for educational purposes.[81]\\n\\nMalicious use\\nMalicious chatbots are frequently used to fill chat rooms with spam and advertisements, by mimicking human behavior and conversations or to entice people into revealing personal information, such as bank account numbers. They were commonly found on Yahoo! Messenger, Windows Live Messenger, AOL Instant Messenger and other instant messaging protocols. There has also been a published report of a chatbot used in a fake personal ad on a dating service\\'s website.[82]\\n\\nTay, an AI chatbot that learns from previous interaction, caused major controversy due to it being targeted by internet trolls on Twitter. The bot was exploited, and after 16 hours began to send extremely offensive Tweets to users. This suggests that although the bot learned effectively from experience, adequate protection was not put in place to prevent misuse.[83]\\n\\nIf a text-sending algorithm can pass itself off as a human instead of a chatbot, its message would be more credible. Therefore, human-seeming chatbots with well-crafted online identities could start scattering fake news that seems plausible, for instance making false claims during an election. With enough chatbots, it might be even possible to achieve artificial social proof.[84][85]\\n\\nLimitations of chatbots\\nThe creation and implementation of chatbots is still a developing area, heavily related to artificial intelligence and machine learning, so the provided solutions, while possessing obvious advantages, have some important limitations in terms of functionalities and use cases. However, this is changing over time.\\n\\nThe most common limitations are listed below:[86]\\n\\nAs the input/output database is fixed and limited, chatbots can fail while dealing with an unsaved query.[55]\\nA chatbot\\'s efficiency highly depends on language processing and is limited because of irregularities, such as accents and mistakes.\\nChatbots are unable to deal with multiple questions at the same time and so conversation opportunities are limited.[86]\\nChatbots require a large amount of conversational data to train. Generative models, which are based on deep learning algorithms to generate new responses word by word based on user input, are usually trained on a large dataset of natural-language phrases.[3]\\nChatbots have difficulty managing non-linear conversations that must go back and forth on a topic with a user.[87]\\nAs it happens usually with technology-led changes in existing services, some consumers, more often than not from older generations, are uncomfortable with chatbots due to their limited understanding, making it obvious that their requests are being dealt with by machines.[86]\\nChatbots and jobs\\nChatbots are increasingly present in businesses and often are used to automate tasks that do not require skill-based talents. With customer service taking place via messaging apps as well as phone calls, there are growing numbers of use-cases where chatbot deployment gives organizations a clear return on investment. Call center workers may be particularly at risk from AI-driven chatbots.[88]\\n\\nChatbot jobs\\n\\nChatbot developers create, debug, and maintain applications that automate customer services or other communication processes. Their duties include reviewing and simplifying code when needed. They may also help companies implement bots in their operations.\\n\\nA study by Forrester (June 2017) predicted that 25% of all jobs would be impacted by AI technologies by 2019.[89]\\n\\n'"
            ],
            "application/vnd.google.colaboratory.intrinsic+json": {
              "type": "string"
            }
          },
          "metadata": {},
          "execution_count": 9
        }
      ]
    },
    {
      "cell_type": "code",
      "source": [
        "raw_doc=raw_doc.lower()    ##converting entire text to lower case"
      ],
      "metadata": {
        "id": "bFvTGxfao-9Z"
      },
      "execution_count": null,
      "outputs": []
    },
    {
      "cell_type": "code",
      "source": [
        "nltk.download('punkt')         ##using the punkt tokenizer\n",
        "nltk.download('wordnet')       ##using the wordnet dictionery\n",
        "nltk.download('omw-1.4')"
      ],
      "metadata": {
        "colab": {
          "base_uri": "https://localhost:8080/"
        },
        "id": "QheYhMBdxs-t",
        "outputId": "de279707-5655-4585-e44e-7ac166895db3"
      },
      "execution_count": null,
      "outputs": [
        {
          "output_type": "stream",
          "name": "stderr",
          "text": [
            "[nltk_data] Downloading package punkt to /root/nltk_data...\n",
            "[nltk_data]   Unzipping tokenizers/punkt.zip.\n",
            "[nltk_data] Downloading package wordnet to /root/nltk_data...\n",
            "[nltk_data] Downloading package omw-1.4 to /root/nltk_data...\n"
          ]
        },
        {
          "output_type": "execute_result",
          "data": {
            "text/plain": [
              "True"
            ]
          },
          "metadata": {},
          "execution_count": 11
        }
      ]
    },
    {
      "cell_type": "code",
      "source": [
        "sentence_tokens=nltk.sent_tokenize(raw_doc)\n",
        "\n",
        "word_tokens=nltk.word_tokenize(raw_doc)"
      ],
      "metadata": {
        "id": "Maluvv89tICK"
      },
      "execution_count": null,
      "outputs": []
    },
    {
      "cell_type": "markdown",
      "source": [
        "#  **After tokenization**\n"
      ],
      "metadata": {
        "id": "LTRFI0c6t1Sv"
      }
    },
    {
      "cell_type": "code",
      "source": [
        "sentence_tokens[2]"
      ],
      "metadata": {
        "colab": {
          "base_uri": "https://localhost:8080/",
          "height": 53
        },
        "id": "k3L_uNIVt4dy",
        "outputId": "64be6c95-727a-4e69-a61c-7021957ba252"
      },
      "execution_count": null,
      "outputs": [
        {
          "output_type": "execute_result",
          "data": {
            "text/plain": [
              "'the reason given is: this article is using citations from 1970 and virtually all claims about conversational capabilities are at least ten years out of date (for example the turing test was arguably made obsolete years ago by transformer models).'"
            ],
            "application/vnd.google.colaboratory.intrinsic+json": {
              "type": "string"
            }
          },
          "metadata": {},
          "execution_count": 13
        }
      ]
    },
    {
      "cell_type": "code",
      "source": [
        "word_tokens[2]"
      ],
      "metadata": {
        "colab": {
          "base_uri": "https://localhost:8080/",
          "height": 36
        },
        "id": "WxBPomlct-2W",
        "outputId": "793596e1-a434-4bc1-a520-b9dc93cfcd5e"
      },
      "execution_count": null,
      "outputs": [
        {
          "output_type": "execute_result",
          "data": {
            "text/plain": [
              "'talk'"
            ],
            "application/vnd.google.colaboratory.intrinsic+json": {
              "type": "string"
            }
          },
          "metadata": {},
          "execution_count": 14
        }
      ]
    },
    {
      "cell_type": "markdown",
      "source": [
        "#  **Performing Text Pre-Processing Step**"
      ],
      "metadata": {
        "id": "EvV3g3vBuJXw"
      }
    },
    {
      "cell_type": "code",
      "source": [
        "lemmer=nltk.stem.WordNetLemmatizer()\n",
        "def LemTokens(tokens):\n",
        "    return[lemmer.lemmatize(token)for token in tokens]\n",
        "remove_punc_dict=dict((ord(punct),None)for punct in string.punctuation)\n",
        "def LemNormalize(text):\n",
        "    return LemTokens(nltk.word_tokenize(text.lower().translate(remove_punc_dict)))\n"
      ],
      "metadata": {
        "id": "AZ7u5KnKugq5"
      },
      "execution_count": null,
      "outputs": []
    },
    {
      "cell_type": "markdown",
      "source": [
        "#  **Define Greeting functions**"
      ],
      "metadata": {
        "id": "uoreJ-748EjE"
      }
    },
    {
      "cell_type": "code",
      "source": [
        "greet_inputs=('hello','hi','how are you?')\n",
        "greet_response=('hi','hey','hey there!')\n",
        "def greet(sentence):\n",
        "    for word in sentence.split():\n",
        "      if word.lower()in greet_inputs:\n",
        "        return random.choice(greet_response)"
      ],
      "metadata": {
        "id": "RfUptirb7-I8"
      },
      "execution_count": null,
      "outputs": []
    },
    {
      "cell_type": "markdown",
      "source": [
        "# **Response Generation by the Bot**"
      ],
      "metadata": {
        "id": "xjG5Bzsk9VWu"
      }
    },
    {
      "cell_type": "code",
      "source": [
        "from sklearn.feature_extraction.text import TfidfVectorizer\n",
        "from sklearn.metrics.pairwise import cosine_similarity"
      ],
      "metadata": {
        "id": "aA9sIltd9ad5"
      },
      "execution_count": null,
      "outputs": []
    },
    {
      "cell_type": "code",
      "source": [
        "def response(user_response):\n",
        "    robo1_response= ' '\n",
        "    TfidVec=TfidfVectorizer(tokenizer=LemNormalize,stop_words='english')\n",
        "    tfidf=TfidVec.fit_transform(sentence_tokens)\n",
        "    vals=cosine_similarity(tfidf[-1],tfidf)\n",
        "    idx=vals.argsort()[0][-2]\n",
        "    flat=vals.flatten()\n",
        "    flat.sort()\n",
        "    req_tfid=flat[-2]\n",
        "    if (req_tfid==0):\n",
        "        robo1_response= robo1_response+\"I am sorry.Unable to understand you!\"\n",
        "        return robo1_response\n",
        "    else:\n",
        "        robo1_response=robo1_response+sentence_tokens[idx]\n",
        "        return robo1_response"
      ],
      "metadata": {
        "id": "FfcV0cA0-Gwz"
      },
      "execution_count": null,
      "outputs": []
    },
    {
      "cell_type": "markdown",
      "source": [
        "# Defining the ChatFlow"
      ],
      "metadata": {
        "id": "dzg_Z2bXC4W1"
      }
    },
    {
      "cell_type": "code",
      "source": [
        "flag=True\n",
        "print('Hello! I am the learning Bot.Start typing your text after greeting to talk to me.For ending convo type bye!')\n",
        "while(flag==True):\n",
        "  user_response=input()\n",
        "  user_response=user_response.lower()\n",
        "  if(user_response !='bye'):\n",
        "    if(user_response=='thank you' or user_response=='thanks'):\n",
        "      flag=False\n",
        "      print('Bot: you are welcome..')\n",
        "    else:\n",
        "      if(greet(user_response) !=None):\n",
        "        print('Bot: ' + greet(user_response))\n",
        "      else:\n",
        "        sentence_tokens.append(user_response)\n",
        "        word_tokens=word_tokens+nltk.word_tokenize(user_response)\n",
        "        final_words=list(set(word_tokens))\n",
        "        print('Bot: ',end='')\n",
        "        print(response(user_response))\n",
        "        sentence_tokens.remove(user_response)\n",
        "  else:\n",
        "    flag=False\n",
        "    print('Bot:Goodbye!')"
      ],
      "metadata": {
        "colab": {
          "base_uri": "https://localhost:8080/"
        },
        "id": "JS2L39_u-hxp",
        "outputId": "07a28f41-0a2c-423c-a588-3f4e110bb439"
      },
      "execution_count": null,
      "outputs": [
        {
          "metadata": {
            "tags": null
          },
          "name": "stdout",
          "output_type": "stream",
          "text": [
            "Hello! I am the learning Bot.Start typing your text after greeting to talk to me.For ending convo type bye!\n",
            "Bot: "
          ]
        },
        {
          "metadata": {
            "tags": null
          },
          "name": "stderr",
          "output_type": "stream",
          "text": [
            "/usr/local/lib/python3.10/dist-packages/sklearn/feature_extraction/text.py:528: UserWarning: The parameter 'token_pattern' will not be used since 'tokenizer' is not None'\n",
            "  warnings.warn(\n",
            "/usr/local/lib/python3.10/dist-packages/sklearn/feature_extraction/text.py:409: UserWarning: Your stop_words may be inconsistent with your preprocessing. Tokenizing the stop words generated tokens ['ha', 'le', 'u', 'wa'] not in stop_words.\n",
            "  warnings.warn(\n"
          ]
        },
        {
          "output_type": "stream",
          "name": "stdout",
          "text": [
            " I am sorry.Unable to understand you!\n",
            "Bot:  I am sorry.Unable to understand you!\n",
            "Bot:  development\n",
            "among the most notable early chatbots are eliza (1966) and parry (1972).\n",
            "thank you\n",
            "Bot: you are welcome..\n"
          ]
        }
      ]
    },
    {
      "cell_type": "code",
      "source": [
        "! apt-get install git"
      ],
      "metadata": {
        "colab": {
          "base_uri": "https://localhost:8080/"
        },
        "id": "BOoEQ_0GFM_y",
        "outputId": "86e32fe5-a3f9-4483-dfb7-09f2ef282fdf"
      },
      "execution_count": null,
      "outputs": [
        {
          "output_type": "stream",
          "name": "stdout",
          "text": [
            "Reading package lists... Done\n",
            "Building dependency tree... Done\n",
            "Reading state information... Done\n",
            "git is already the newest version (1:2.34.1-1ubuntu1.10).\n",
            "0 upgraded, 0 newly installed, 0 to remove and 38 not upgraded.\n"
          ]
        }
      ]
    },
    {
      "cell_type": "code",
      "source": [
        "!git clone https://github.com/rehnavebrahim/chatbot"
      ],
      "metadata": {
        "colab": {
          "base_uri": "https://localhost:8080/"
        },
        "id": "EFhkf_2UFbDQ",
        "outputId": "53443444-1ce2-4027-d870-cbe5eaaa71ba"
      },
      "execution_count": null,
      "outputs": [
        {
          "output_type": "stream",
          "name": "stdout",
          "text": [
            "Cloning into 'chatbot'...\n",
            "remote: Enumerating objects: 3, done.\u001b[K\n",
            "remote: Counting objects: 100% (3/3), done.\u001b[K\n",
            "remote: Total 3 (delta 0), reused 0 (delta 0), pack-reused 0\u001b[K\n",
            "Receiving objects: 100% (3/3), done.\n"
          ]
        }
      ]
    },
    {
      "cell_type": "code",
      "source": [],
      "metadata": {
        "id": "VirDhD05FjyO"
      },
      "execution_count": null,
      "outputs": []
    }
  ]
}